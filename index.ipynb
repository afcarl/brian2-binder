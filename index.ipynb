{
 "cells": [
  {
   "cell_type": "markdown",
   "metadata": {
    "heading_collapsed": false,
    "level": 1
   },
   "source": [
    "# Welcome to the Brian binder\n",
    "\n",
    "This repository is specially designed for trying out Brian on the [mybinder.org](http://mybinder.org) server. \n",
    "The code for Brian module can be found [here](https://github.com/brian-team/brian2) with accompanying [documention here](http://brian2.readthedocs.io/). \n",
    "\n",
    "## Tutorials"
   ]
  },
  {
   "cell_type": "markdown",
   "metadata": {
    "level": 7
   },
   "source": [
    "* [Introduction to Brian part 1: Neurons](tutorials/1-intro-to-brian-neurons.ipynb)\n",
    "* [Introduction to Brian part 2: Synapses](tutorials/2-intro-to-brian-synapses.ipynb)\n"
   ]
  },
  {
   "cell_type": "markdown",
   "metadata": {
    "heading_collapsed": false,
    "level": 2
   },
   "source": [
    "## Examples"
   ]
  },
  {
   "cell_type": "markdown",
   "metadata": {
    "level": 7
   },
   "source": [
    "* [adaptive_threshold](examples/adaptive_threshold.ipynb)\n",
    "* [COBAHH](examples/COBAHH.ipynb)\n",
    "* [CUBA](examples/CUBA.ipynb)\n",
    "* [IF_curve_Hodgkin_Huxley](examples/IF_curve_Hodgkin_Huxley.ipynb)\n",
    "* [IF_curve_LIF](examples/IF_curve_LIF.ipynb)\n",
    "* [non_reliability](examples/non_reliability.ipynb)\n",
    "* [phase_locking](examples/phase_locking.ipynb)\n",
    "* [reliability](examples/reliability.ipynb)\n",
    "\n",
    "### advanced\n",
    "\n",
    "* [opencv_movie](examples/advanced/opencv_movie.ipynb)\n",
    "* [stochastic_odes](examples/advanced/stochastic_odes.ipynb)\n",
    "\n",
    "### compartmental\n",
    "\n",
    "* [bipolar_cell](examples/compartmental/bipolar_cell.ipynb)\n",
    "* [bipolar_with_inputs](examples/compartmental/bipolar_with_inputs.ipynb)\n",
    "* [bipolar_with_inputs2](examples/compartmental/bipolar_with_inputs2.ipynb)\n",
    "* [cylinder](examples/compartmental/cylinder.ipynb)\n",
    "* [hh_with_spikes](examples/compartmental/hh_with_spikes.ipynb)\n",
    "* [hodgkin_huxley_1952](examples/compartmental/hodgkin_huxley_1952.ipynb)\n",
    "* [infinite_cable](examples/compartmental/infinite_cable.ipynb)\n",
    "* [lfp](examples/compartmental/lfp.ipynb)\n",
    "* [morphotest](examples/compartmental/morphotest.ipynb)\n",
    "* [rall](examples/compartmental/rall.ipynb)\n",
    "* [spike_initiation](examples/compartmental/spike_initiation.ipynb)\n",
    "\n",
    "### frompapers\n",
    "\n",
    "* [Brette_2004](examples/frompapers/Brette_2004.ipynb)\n",
    "* [Brette_Gerstner_2005](examples/frompapers/Brette_Gerstner_2005.ipynb)\n",
    "* [Brette_Guigon_2003](examples/frompapers/Brette_Guigon_2003.ipynb)\n",
    "* [Brunel_Hakim_1999](examples/frompapers/Brunel_Hakim_1999.ipynb)\n",
    "* [Clopath_et_al_2010_homeostasis](examples/frompapers/Clopath_et_al_2010_homeostasis.ipynb)\n",
    "* [Clopath_et_al_2010_no_homeostasis](examples/frompapers/Clopath_et_al_2010_no_homeostasis.ipynb)\n",
    "* [Diesmann_et_al_1999](examples/frompapers/Diesmann_et_al_1999.ipynb)\n",
    "* [Kremer_et_al_2011_barrel_cortex](examples/frompapers/Kremer_et_al_2011_barrel_cortex.ipynb)\n",
    "* [Rossant_et_al_2011bis](examples/frompapers/Rossant_et_al_2011bis.ipynb)\n",
    "* [Rothman_Manis_2003](examples/frompapers/Rothman_Manis_2003.ipynb)\n",
    "* [Sturzl_et_al_2000](examples/frompapers/Sturzl_et_al_2000.ipynb)\n",
    "* [Touboul_Brette_2008](examples/frompapers/Touboul_Brette_2008.ipynb)\n",
    "* [Vogels_et_al_2011](examples/frompapers/Vogels_et_al_2011.ipynb)\n",
    "* [Wang_Buszaki_1996](examples/frompapers/Wang_Buszaki_1996.ipynb)\n",
    "\n",
    "#### frompapers/Brette_2012\n",
    "\n",
    "* [Fig1](examples/frompapers/Brette_2012/Fig1.ipynb)\n",
    "* [Fig3AB](examples/frompapers/Brette_2012/Fig3AB.ipynb)\n",
    "* [Fig3CF](examples/frompapers/Brette_2012/Fig3CF.ipynb)\n",
    "* [Fig4](examples/frompapers/Brette_2012/Fig4.ipynb)\n",
    "* [Fig5A](examples/frompapers/Brette_2012/Fig5A.ipynb)\n",
    "* [params](examples/frompapers/Brette_2012/params.ipynb)\n",
    "\n",
    "### standalone\n",
    "\n",
    "* [cuba_openmp](examples/standalone/cuba_openmp.ipynb)\n",
    "* [STDP_standalone](examples/standalone/STDP_standalone.ipynb)\n",
    "\n",
    "### synapses\n",
    "\n",
    "* [efficient_gaussian_connectivity](examples/synapses/efficient_gaussian_connectivity.ipynb)\n",
    "* [gapjunctions](examples/synapses/gapjunctions.ipynb)\n",
    "* [jeffress](examples/synapses/jeffress.ipynb)\n",
    "* [licklider](examples/synapses/licklider.ipynb)\n",
    "* [nonlinear](examples/synapses/nonlinear.ipynb)\n",
    "* [spatial_connections](examples/synapses/spatial_connections.ipynb)\n",
    "* [state_variables](examples/synapses/state_variables.ipynb)\n",
    "* [STDP](examples/synapses/STDP.ipynb)\n",
    "* [synapses](examples/synapses/synapses.ipynb)\n"
   ]
  },
  {
   "cell_type": "markdown",
   "metadata": {
    "heading_collapsed": false,
    "level": 2
   },
   "source": [
    "## Tests\n",
    "\n",
    "A suite of tests can be run through executing the code in the [test notebook](test.ipynb) (see the [documentation](http://brian2.readthedocs.io/en/latest/developer/guidelines/testing.html) for more details). \n",
    "\n",
    "## Play with Brian\n",
    "\n",
    "You can edit and run the cells below to try out Brian. Simply click on the cell, edit the code and press CTRL+ENTER to run it."
   ]
  },
  {
   "cell_type": "code",
   "execution_count": null,
   "metadata": {
    "collapsed": false,
    "level": 7
   },
   "outputs": [],
   "source": [
    "%matplotlib inline\n",
    "from brian2 import *\n",
    "start_scope()\n",
    "# add your code below here"
   ]
  }
 ],
 "metadata": {
  "kernelspec": {
   "display_name": "Python 2",
   "language": "python",
   "name": "python2"
  },
  "language_info": {
   "codemirror_mode": {
    "name": "ipython",
    "version": 2
   },
   "file_extension": ".py",
   "mimetype": "text/x-python",
   "name": "python",
   "nbconvert_exporter": "python",
   "pygments_lexer": "ipython2",
   "version": "2.7.12"
  }
 },
 "nbformat": 4,
 "nbformat_minor": 0
}
