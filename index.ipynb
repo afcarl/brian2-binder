{
 "cells": [
  {
   "cell_type": "markdown",
   "metadata": {},
   "source": [
    "# Welcome to the Brian2 binder\n",
    "\n",
    "This repository is specially designed for trying out Brian2 on the [mybinder.org](mybinder.org) server. \n",
    "The code for the Brian2 module can be found [here](https://github.com/brian-team/brian2) with accompanying [documention here](http://brian2.readthedocs.io/). \n",
    "\n",
    "## Tutorials\n",
    "\n",
    "1. [Neurons](tutorials/1-intro-to-brian-neurons.ipynb)\n",
    "2. [Connections](tutorials/2-intro-to-brian-synapses.ipynb)\n",
    "\n",
    "## Examples\n",
    "\n",
    "Further examples can be found in the [examples](examples/) directory. \n",
    "Examples such as the `reliability.py` script can be loaded with:\n",
    "```\n",
    "%load examples/reliability.py\n",
    "```\n",
    "The code can then be run within the cell. \n",
    "\n",
    "## Tests\n",
    "\n",
    "A suite of tests can be run through executing the code in the [test notebook](test.ipynb) (see the [documentation](http://brian2.readthedocs.io/en/latest/developer/guidelines/testing.html) for more details). "
   ]
  },
  {
   "cell_type": "code",
   "execution_count": null,
   "metadata": {
    "collapsed": false
   },
   "outputs": [],
   "source": [
    "%matplotlib notebook\n",
    "from brian2 import *"
   ]
  }
 ],
 "metadata": {
  "kernelspec": {
   "display_name": "Python 3",
   "language": "python",
   "name": "python3"
  },
  "language_info": {
   "codemirror_mode": {
    "name": "ipython",
    "version": 3
   },
   "file_extension": ".py",
   "mimetype": "text/x-python",
   "name": "python",
   "nbconvert_exporter": "python",
   "pygments_lexer": "ipython3",
   "version": "3.5.2"
  }
 },
 "nbformat": 4,
 "nbformat_minor": 0
}
