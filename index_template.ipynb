{
 "cells": [
  {
   "cell_type": "markdown",
   "metadata": {
    "heading_collapsed": false,
    "level": 1
   },
   "source": [
    "# Welcome to the Brian binder\n",
    "\n",
    "This repository is specially designed for trying out Brian on the [mybinder.org](http://mybinder.org) server. \n",
    "The code for Brian module can be found [here](https://github.com/brian-team/brian2) with accompanying [documention here](http://brian2.readthedocs.io/). \n",
    "\n",
    "## Tutorials"
   ]
  },
  {
   "cell_type": "markdown",
   "metadata": {
    "level": 7
   },
   "source": [
    "INSERT_TUTORIALS_HERE"
   ]
  },
  {
   "cell_type": "markdown",
   "metadata": {
    "heading_collapsed": false,
    "level": 2
   },
   "source": [
    "## Examples"
   ]
  },
  {
   "cell_type": "markdown",
   "metadata": {
    "level": 7
   },
   "source": [
    "INSERT_EXAMPLES_HERE"
   ]
  },
  {
   "cell_type": "markdown",
   "metadata": {
    "heading_collapsed": false,
    "level": 2
   },
   "source": [
    "## Tests\n",
    "\n",
    "A suite of tests can be run through executing the code in the [test notebook](test.ipynb) (see the [documentation](http://brian2.readthedocs.io/en/latest/developer/guidelines/testing.html) for more details). \n",
    "\n",
    "## Play with Brian\n",
    "\n",
    "You can edit and run the cells below to try out Brian. Simply click on the cell, edit the code and press CTRL+ENTER to run it."
   ]
  },
  {
   "cell_type": "code",
   "execution_count": null,
   "metadata": {
    "collapsed": false,
    "level": 7
   },
   "outputs": [],
   "source": [
    "%matplotlib inline\n",
    "from brian2 import *\n",
    "start_scope()\n",
    "# add your code below here"
   ]
  }
 ],
 "metadata": {
  "kernelspec": {
   "display_name": "Python 2",
   "language": "python",
   "name": "python2"
  },
  "language_info": {
   "codemirror_mode": {
    "name": "ipython",
    "version": 2
   },
   "file_extension": ".py",
   "mimetype": "text/x-python",
   "name": "python",
   "nbconvert_exporter": "python",
   "pygments_lexer": "ipython2",
   "version": "2.7.12"
  }
 },
 "nbformat": 4,
 "nbformat_minor": 0
}
